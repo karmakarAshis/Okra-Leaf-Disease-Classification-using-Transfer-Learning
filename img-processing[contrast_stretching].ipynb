{
 "cells": [
  {
   "cell_type": "code",
   "execution_count": 2,
   "id": "81654dd2-5944-438a-8b44-43fd61e59cdc",
   "metadata": {},
   "outputs": [],
   "source": [
    "# imag preprocessing - contrast_straching sigma =2"
   ]
  },
  {
   "cell_type": "code",
   "execution_count": 1,
   "id": "b500d990-5c55-41ba-8ddd-feedb252cda1",
   "metadata": {},
   "outputs": [],
   "source": [
    "import os\n",
    "import cv2\n",
    "import numpy as np\n",
    "\n",
    "def contrast_stretching(image, min_out=0, max_out=255):\n",
    "    min_in = np.min(image)\n",
    "    max_in = np.max(image)\n",
    "\n",
    "    # Apply contrast stretching\n",
    "    stretched = (image - min_in) * ((max_out - min_out) / (max_in - min_in)) + min_out\n",
    "\n",
    "    # Clip values to be in the valid intensity range [0, 255]\n",
    "    stretched = np.clip(stretched, 0, 255).astype(np.uint8)\n",
    "\n",
    "    return stretched\n",
    "\n",
    "def process_images(input_folder, output_folder):\n",
    "    # Create the output folder if it doesn't exist\n",
    "    os.makedirs(output_folder, exist_ok=True)\n",
    "\n",
    "    # Iterate through images in the input folder\n",
    "    for filename in os.listdir(input_folder):\n",
    "        if filename.endswith(('.png', '.jpg', '.jpeg', '.JPG')):\n",
    "            image_path = os.path.join(input_folder, filename)\n",
    "            image = cv2.imread(image_path)\n",
    "\n",
    "            stretched_image = contrast_stretching(image)\n",
    "\n",
    "            output_path = os.path.join(output_folder, filename)\n",
    "            cv2.imwrite(output_path, stretched_image)\n",
    "            "
   ]
  },
  {
   "cell_type": "code",
   "execution_count": 2,
   "id": "8723a407-c549-4dbd-9595-ca07af5a37ec",
   "metadata": {},
   "outputs": [],
   "source": [
    "# Process healthy \n",
    "process_images('data/healthy', 'Image_processing/healthy')"
   ]
  },
  {
   "cell_type": "code",
   "execution_count": 3,
   "id": "5fffce93-67de-4b89-ae81-177923c02a8a",
   "metadata": {},
   "outputs": [],
   "source": [
    "# Process l_spot \n",
    "process_images('data/l_spot', 'Image_processing/l_spot')"
   ]
  },
  {
   "cell_type": "code",
   "execution_count": null,
   "id": "c813f762-050c-42ea-9673-6080415cddd1",
   "metadata": {},
   "outputs": [],
   "source": [
    "# Process y_vain \n",
    "process_images('data/y_vain', 'Image_processing/y_vain')"
   ]
  },
  {
   "cell_type": "code",
   "execution_count": null,
   "id": "0c4cbc70-c651-4397-b7bd-c3a5b8838d80",
   "metadata": {},
   "outputs": [],
   "source": [
    "# test-train-validation set splitter"
   ]
  },
  {
   "cell_type": "code",
   "execution_count": null,
   "id": "02c441b2-59a6-4da4-b355-fcd9465440f7",
   "metadata": {},
   "outputs": [],
   "source": [
    "import splitfolders\n",
    "input_folder = 'Image_processing/'"
   ]
  },
  {
   "cell_type": "code",
   "execution_count": null,
   "id": "41b8a9ae-87e5-4131-8052-cad3b6c04164",
   "metadata": {},
   "outputs": [],
   "source": [
    "# move=true\n",
    "splitfolders.ratio(input_folder, output=\"dataset\", \n",
    "                   seed=1337, ratio=(.7, .2, .1), \n",
    "                   group_prefix=None, move=True) # default values = True"
   ]
  },
  {
   "cell_type": "code",
   "execution_count": null,
   "id": "85e0ec06-6cbf-4c85-a1f4-c3d620ce588d",
   "metadata": {},
   "outputs": [],
   "source": []
  }
 ],
 "metadata": {
  "kernelspec": {
   "display_name": "Python 3 (ipykernel)",
   "language": "python",
   "name": "python3"
  },
  "language_info": {
   "codemirror_mode": {
    "name": "ipython",
    "version": 3
   },
   "file_extension": ".py",
   "mimetype": "text/x-python",
   "name": "python",
   "nbconvert_exporter": "python",
   "pygments_lexer": "ipython3",
   "version": "3.10.13"
  }
 },
 "nbformat": 4,
 "nbformat_minor": 5
}
