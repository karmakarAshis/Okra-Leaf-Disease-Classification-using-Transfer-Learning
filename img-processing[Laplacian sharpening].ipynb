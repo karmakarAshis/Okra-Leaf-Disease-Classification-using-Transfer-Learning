{
 "cells": [
  {
   "cell_type": "code",
   "execution_count": 2,
   "metadata": {},
   "outputs": [],
   "source": [
    "import os\n",
    "import cv2\n",
    "import numpy as np\n",
    "\n",
    "# Define a function for Laplacian sharpening\n",
    "def laplacian_sharpening(image):\n",
    "    laplacian = cv2.Laplacian(image, cv2.CV_64F)\n",
    "    sharpened = image - 0.9 * laplacian\n",
    "    sharpened = np.clip(sharpened, 0, 255).astype(np.uint8)\n",
    "    return sharpened\n",
    "\n",
    "# Define a function to process all images in a folder\n",
    "def process_images(source_folder, output_folder):\n",
    "    # Check if the output folder exists, if not, create it\n",
    "    if not os.path.exists(output_folder):\n",
    "        os.makedirs(output_folder)\n",
    "    \n",
    "    # List all image files in the source folder\n",
    "    image_files = [os.path.join(source_folder, f) for f in os.listdir(source_folder) if f.endswith(('.jpg', '.jpeg', '.png', '.JPG'))]\n",
    "    \n",
    "    # Process each image in the source folder\n",
    "    for image_path in image_files:\n",
    "        # Read an image\n",
    "        image = cv2.imread(image_path)\n",
    "        \n",
    "        # Check if the image is loaded properly\n",
    "        if image is None:\n",
    "            print(f\"Could not read image: {image_path}\")\n",
    "            continue\n",
    "\n",
    "        # Apply Laplacian sharpening to the image\n",
    "        sharpened_image = laplacian_sharpening(image)\n",
    "\n",
    "        # Save the sharpened image in the output folder\n",
    "        output_path = os.path.join(output_folder, os.path.basename(image_path))\n",
    "        cv2.imwrite(output_path, sharpened_image)\n",
    "\n",
    "    print(\"Processing complete.\")\n",
    "\n",
    "# # Example usage\n",
    "# source_folder = 'images/'\n",
    "# output_folder = 'Laplacian_sharpened_images/'\n",
    "\n",
    "# process_images(source_folder, output_folder)\n"
   ]
  },
  {
   "cell_type": "code",
   "execution_count": 3,
   "metadata": {},
   "outputs": [
    {
     "name": "stdout",
     "output_type": "stream",
     "text": [
      "Processing complete.\n"
     ]
    }
   ],
   "source": [
    "# Process healthy \n",
    "process_images('data/healthy', 'Image_processing/healthy')"
   ]
  },
  {
   "cell_type": "code",
   "execution_count": 4,
   "metadata": {},
   "outputs": [
    {
     "name": "stdout",
     "output_type": "stream",
     "text": [
      "Processing complete.\n"
     ]
    }
   ],
   "source": [
    "# Process l_spot \n",
    "process_images('data/l_spot', 'Image_processing/l_spot')"
   ]
  },
  {
   "cell_type": "code",
   "execution_count": 5,
   "metadata": {},
   "outputs": [
    {
     "name": "stdout",
     "output_type": "stream",
     "text": [
      "Processing complete.\n"
     ]
    }
   ],
   "source": [
    "# Process y_vain \n",
    "process_images('data/y_vain', 'Image_processing/y_vain')"
   ]
  },
  {
   "cell_type": "code",
   "execution_count": null,
   "metadata": {},
   "outputs": [],
   "source": []
  },
  {
   "cell_type": "code",
   "execution_count": 6,
   "metadata": {},
   "outputs": [],
   "source": [
    "import splitfolders\n",
    "input_folder = 'Image_processing/'"
   ]
  },
  {
   "cell_type": "code",
   "execution_count": 7,
   "metadata": {},
   "outputs": [
    {
     "name": "stderr",
     "output_type": "stream",
     "text": [
      "Copying files: 222 files [00:00, 3554.92 files/s]\n"
     ]
    }
   ],
   "source": [
    "# move=true\n",
    "splitfolders.ratio(input_folder, output=\"dataset\", \n",
    "                   seed=1337, ratio=(.7, .2, .1), \n",
    "                   group_prefix=None, move=True) # default values = True"
   ]
  },
  {
   "cell_type": "code",
   "execution_count": null,
   "metadata": {},
   "outputs": [],
   "source": []
  }
 ],
 "metadata": {
  "colab": {
   "authorship_tag": "ABX9TyMa2qgw4ObTsCpPR1oy+6oq",
   "provenance": [
    {
     "file_id": "1Fk1tx4ULoaiPJKqV7Cc3lNDr6REiRO_n",
     "timestamp": 1719983619922
    }
   ]
  },
  "kernelspec": {
   "display_name": "Python 3 (ipykernel)",
   "language": "python",
   "name": "python3"
  },
  "language_info": {
   "codemirror_mode": {
    "name": "ipython",
    "version": 3
   },
   "file_extension": ".py",
   "mimetype": "text/x-python",
   "name": "python",
   "nbconvert_exporter": "python",
   "pygments_lexer": "ipython3",
   "version": "3.10.13"
  }
 },
 "nbformat": 4,
 "nbformat_minor": 4
}
